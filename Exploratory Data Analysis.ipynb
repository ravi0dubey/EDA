{
 "cells": [
  {
   "cell_type": "code",
   "execution_count": 2,
   "id": "50e9a12d",
   "metadata": {},
   "outputs": [
    {
     "ename": "ImportError",
     "evalue": "cannot import name 'soft_unicode' from 'markupsafe' (C:\\Users\\Ravi0dubey\\anaconda3\\lib\\site-packages\\markupsafe\\__init__.py)",
     "output_type": "error",
     "traceback": [
      "\u001b[1;31m---------------------------------------------------------------------------\u001b[0m",
      "\u001b[1;31mImportError\u001b[0m                               Traceback (most recent call last)",
      "\u001b[1;32m~\\AppData\\Local\\Temp/ipykernel_53152/1685778526.py\u001b[0m in \u001b[0;36m<module>\u001b[1;34m\u001b[0m\n\u001b[0;32m      1\u001b[0m \u001b[1;32mimport\u001b[0m \u001b[0mpandas\u001b[0m \u001b[1;32mas\u001b[0m \u001b[0mpd\u001b[0m\u001b[1;33m\u001b[0m\u001b[1;33m\u001b[0m\u001b[0m\n\u001b[1;32m----> 2\u001b[1;33m \u001b[1;32mfrom\u001b[0m \u001b[0mpandas_profiling\u001b[0m \u001b[1;32mimport\u001b[0m \u001b[0mProfileReport\u001b[0m\u001b[1;33m\u001b[0m\u001b[1;33m\u001b[0m\u001b[0m\n\u001b[0m\u001b[0;32m      3\u001b[0m \u001b[1;32mimport\u001b[0m \u001b[0mmatplotlib\u001b[0m\u001b[1;33m.\u001b[0m\u001b[0mpyplot\u001b[0m \u001b[1;32mas\u001b[0m \u001b[0mplt\u001b[0m\u001b[1;33m\u001b[0m\u001b[1;33m\u001b[0m\u001b[0m\n\u001b[0;32m      4\u001b[0m \u001b[1;32mimport\u001b[0m \u001b[0mseaborn\u001b[0m \u001b[1;32mas\u001b[0m \u001b[0msns\u001b[0m\u001b[1;33m\u001b[0m\u001b[1;33m\u001b[0m\u001b[0m\n",
      "\u001b[1;32m~\\anaconda3\\lib\\site-packages\\pandas_profiling\\__init__.py\u001b[0m in \u001b[0;36m<module>\u001b[1;34m\u001b[0m\n\u001b[0;32m      5\u001b[0m \u001b[1;33m\u001b[0m\u001b[0m\n\u001b[0;32m      6\u001b[0m \u001b[1;32mfrom\u001b[0m \u001b[0mpandas_profiling\u001b[0m\u001b[1;33m.\u001b[0m\u001b[0mconfig\u001b[0m \u001b[1;32mimport\u001b[0m \u001b[0mConfig\u001b[0m\u001b[1;33m,\u001b[0m \u001b[0mconfig\u001b[0m\u001b[1;33m\u001b[0m\u001b[1;33m\u001b[0m\u001b[0m\n\u001b[1;32m----> 7\u001b[1;33m \u001b[1;32mfrom\u001b[0m \u001b[0mpandas_profiling\u001b[0m\u001b[1;33m.\u001b[0m\u001b[0mcontroller\u001b[0m \u001b[1;32mimport\u001b[0m \u001b[0mpandas_decorator\u001b[0m\u001b[1;33m\u001b[0m\u001b[1;33m\u001b[0m\u001b[0m\n\u001b[0m\u001b[0;32m      8\u001b[0m \u001b[1;32mfrom\u001b[0m \u001b[0mpandas_profiling\u001b[0m\u001b[1;33m.\u001b[0m\u001b[0mprofile_report\u001b[0m \u001b[1;32mimport\u001b[0m \u001b[0mProfileReport\u001b[0m\u001b[1;33m\u001b[0m\u001b[1;33m\u001b[0m\u001b[0m\n\u001b[0;32m      9\u001b[0m \u001b[1;32mfrom\u001b[0m \u001b[0mpandas_profiling\u001b[0m\u001b[1;33m.\u001b[0m\u001b[0mversion\u001b[0m \u001b[1;32mimport\u001b[0m \u001b[0m__version__\u001b[0m\u001b[1;33m\u001b[0m\u001b[1;33m\u001b[0m\u001b[0m\n",
      "\u001b[1;32m~\\anaconda3\\lib\\site-packages\\pandas_profiling\\controller\\pandas_decorator.py\u001b[0m in \u001b[0;36m<module>\u001b[1;34m\u001b[0m\n\u001b[0;32m      2\u001b[0m \u001b[1;32mfrom\u001b[0m \u001b[0mpandas\u001b[0m \u001b[1;32mimport\u001b[0m \u001b[0mDataFrame\u001b[0m\u001b[1;33m\u001b[0m\u001b[1;33m\u001b[0m\u001b[0m\n\u001b[0;32m      3\u001b[0m \u001b[1;33m\u001b[0m\u001b[0m\n\u001b[1;32m----> 4\u001b[1;33m \u001b[1;32mfrom\u001b[0m \u001b[0mpandas_profiling\u001b[0m\u001b[1;33m.\u001b[0m\u001b[0m__init__\u001b[0m \u001b[1;32mimport\u001b[0m \u001b[0mProfileReport\u001b[0m\u001b[1;33m\u001b[0m\u001b[1;33m\u001b[0m\u001b[0m\n\u001b[0m\u001b[0;32m      5\u001b[0m \u001b[1;33m\u001b[0m\u001b[0m\n\u001b[0;32m      6\u001b[0m \u001b[1;33m\u001b[0m\u001b[0m\n",
      "\u001b[1;32m~\\anaconda3\\lib\\site-packages\\pandas_profiling\\__init__.py\u001b[0m in \u001b[0;36m<module>\u001b[1;34m\u001b[0m\n\u001b[0;32m      6\u001b[0m \u001b[1;32mfrom\u001b[0m \u001b[0mpandas_profiling\u001b[0m\u001b[1;33m.\u001b[0m\u001b[0mconfig\u001b[0m \u001b[1;32mimport\u001b[0m \u001b[0mConfig\u001b[0m\u001b[1;33m,\u001b[0m \u001b[0mconfig\u001b[0m\u001b[1;33m\u001b[0m\u001b[1;33m\u001b[0m\u001b[0m\n\u001b[0;32m      7\u001b[0m \u001b[1;32mfrom\u001b[0m \u001b[0mpandas_profiling\u001b[0m\u001b[1;33m.\u001b[0m\u001b[0mcontroller\u001b[0m \u001b[1;32mimport\u001b[0m \u001b[0mpandas_decorator\u001b[0m\u001b[1;33m\u001b[0m\u001b[1;33m\u001b[0m\u001b[0m\n\u001b[1;32m----> 8\u001b[1;33m \u001b[1;32mfrom\u001b[0m \u001b[0mpandas_profiling\u001b[0m\u001b[1;33m.\u001b[0m\u001b[0mprofile_report\u001b[0m \u001b[1;32mimport\u001b[0m \u001b[0mProfileReport\u001b[0m\u001b[1;33m\u001b[0m\u001b[1;33m\u001b[0m\u001b[0m\n\u001b[0m\u001b[0;32m      9\u001b[0m \u001b[1;32mfrom\u001b[0m \u001b[0mpandas_profiling\u001b[0m\u001b[1;33m.\u001b[0m\u001b[0mversion\u001b[0m \u001b[1;32mimport\u001b[0m \u001b[0m__version__\u001b[0m\u001b[1;33m\u001b[0m\u001b[1;33m\u001b[0m\u001b[0m\n\u001b[0;32m     10\u001b[0m \u001b[1;33m\u001b[0m\u001b[0m\n",
      "\u001b[1;32m~\\anaconda3\\lib\\site-packages\\pandas_profiling\\profile_report.py\u001b[0m in \u001b[0;36m<module>\u001b[1;34m\u001b[0m\n\u001b[0;32m     12\u001b[0m \u001b[1;32mfrom\u001b[0m \u001b[0mpandas_profiling\u001b[0m\u001b[1;33m.\u001b[0m\u001b[0mmodel\u001b[0m\u001b[1;33m.\u001b[0m\u001b[0mmessages\u001b[0m \u001b[1;32mimport\u001b[0m \u001b[0mMessageType\u001b[0m\u001b[1;33m\u001b[0m\u001b[1;33m\u001b[0m\u001b[0m\n\u001b[0;32m     13\u001b[0m \u001b[1;32mfrom\u001b[0m \u001b[0mpandas_profiling\u001b[0m\u001b[1;33m.\u001b[0m\u001b[0mreport\u001b[0m \u001b[1;32mimport\u001b[0m \u001b[0mget_report_structure\u001b[0m\u001b[1;33m\u001b[0m\u001b[1;33m\u001b[0m\u001b[0m\n\u001b[1;32m---> 14\u001b[1;33m from pandas_profiling.report.presentation.flavours.html.templates import (\n\u001b[0m\u001b[0;32m     15\u001b[0m     \u001b[0mcreate_html_assets\u001b[0m\u001b[1;33m,\u001b[0m\u001b[1;33m\u001b[0m\u001b[1;33m\u001b[0m\u001b[0m\n\u001b[0;32m     16\u001b[0m )\n",
      "\u001b[1;32m~\\anaconda3\\lib\\site-packages\\pandas_profiling\\report\\presentation\\flavours\\html\\__init__.py\u001b[0m in \u001b[0;36m<module>\u001b[1;34m\u001b[0m\n\u001b[1;32m----> 1\u001b[1;33m \u001b[1;32mfrom\u001b[0m \u001b[0mpandas_profiling\u001b[0m\u001b[1;33m.\u001b[0m\u001b[0mreport\u001b[0m\u001b[1;33m.\u001b[0m\u001b[0mpresentation\u001b[0m\u001b[1;33m.\u001b[0m\u001b[0mflavours\u001b[0m\u001b[1;33m.\u001b[0m\u001b[0mhtml\u001b[0m\u001b[1;33m.\u001b[0m\u001b[0mcollapse\u001b[0m \u001b[1;32mimport\u001b[0m \u001b[0mHTMLCollapse\u001b[0m\u001b[1;33m\u001b[0m\u001b[1;33m\u001b[0m\u001b[0m\n\u001b[0m\u001b[0;32m      2\u001b[0m \u001b[1;32mfrom\u001b[0m \u001b[0mpandas_profiling\u001b[0m\u001b[1;33m.\u001b[0m\u001b[0mreport\u001b[0m\u001b[1;33m.\u001b[0m\u001b[0mpresentation\u001b[0m\u001b[1;33m.\u001b[0m\u001b[0mflavours\u001b[0m\u001b[1;33m.\u001b[0m\u001b[0mhtml\u001b[0m\u001b[1;33m.\u001b[0m\u001b[0mcontainer\u001b[0m \u001b[1;32mimport\u001b[0m \u001b[0mHTMLContainer\u001b[0m\u001b[1;33m\u001b[0m\u001b[1;33m\u001b[0m\u001b[0m\n\u001b[0;32m      3\u001b[0m \u001b[1;32mfrom\u001b[0m \u001b[0mpandas_profiling\u001b[0m\u001b[1;33m.\u001b[0m\u001b[0mreport\u001b[0m\u001b[1;33m.\u001b[0m\u001b[0mpresentation\u001b[0m\u001b[1;33m.\u001b[0m\u001b[0mflavours\u001b[0m\u001b[1;33m.\u001b[0m\u001b[0mhtml\u001b[0m\u001b[1;33m.\u001b[0m\u001b[0mduplicate\u001b[0m \u001b[1;32mimport\u001b[0m \u001b[0mHTMLDuplicate\u001b[0m\u001b[1;33m\u001b[0m\u001b[1;33m\u001b[0m\u001b[0m\n\u001b[0;32m      4\u001b[0m from pandas_profiling.report.presentation.flavours.html.frequency_table import (\n\u001b[0;32m      5\u001b[0m     \u001b[0mHTMLFrequencyTable\u001b[0m\u001b[1;33m,\u001b[0m\u001b[1;33m\u001b[0m\u001b[1;33m\u001b[0m\u001b[0m\n",
      "\u001b[1;32m~\\anaconda3\\lib\\site-packages\\pandas_profiling\\report\\presentation\\flavours\\html\\collapse.py\u001b[0m in \u001b[0;36m<module>\u001b[1;34m\u001b[0m\n\u001b[0;32m      1\u001b[0m \u001b[1;32mfrom\u001b[0m \u001b[0mpandas_profiling\u001b[0m\u001b[1;33m.\u001b[0m\u001b[0mreport\u001b[0m\u001b[1;33m.\u001b[0m\u001b[0mpresentation\u001b[0m\u001b[1;33m.\u001b[0m\u001b[0mcore\u001b[0m \u001b[1;32mimport\u001b[0m \u001b[0mCollapse\u001b[0m\u001b[1;33m\u001b[0m\u001b[1;33m\u001b[0m\u001b[0m\n\u001b[1;32m----> 2\u001b[1;33m \u001b[1;32mfrom\u001b[0m \u001b[0mpandas_profiling\u001b[0m\u001b[1;33m.\u001b[0m\u001b[0mreport\u001b[0m\u001b[1;33m.\u001b[0m\u001b[0mpresentation\u001b[0m\u001b[1;33m.\u001b[0m\u001b[0mflavours\u001b[0m\u001b[1;33m.\u001b[0m\u001b[0mhtml\u001b[0m \u001b[1;32mimport\u001b[0m \u001b[0mtemplates\u001b[0m\u001b[1;33m\u001b[0m\u001b[1;33m\u001b[0m\u001b[0m\n\u001b[0m\u001b[0;32m      3\u001b[0m \u001b[1;33m\u001b[0m\u001b[0m\n\u001b[0;32m      4\u001b[0m \u001b[1;33m\u001b[0m\u001b[0m\n\u001b[0;32m      5\u001b[0m \u001b[1;32mclass\u001b[0m \u001b[0mHTMLCollapse\u001b[0m\u001b[1;33m(\u001b[0m\u001b[0mCollapse\u001b[0m\u001b[1;33m)\u001b[0m\u001b[1;33m:\u001b[0m\u001b[1;33m\u001b[0m\u001b[1;33m\u001b[0m\u001b[0m\n",
      "\u001b[1;32m~\\anaconda3\\lib\\site-packages\\pandas_profiling\\report\\presentation\\flavours\\html\\templates.py\u001b[0m in \u001b[0;36m<module>\u001b[1;34m\u001b[0m\n\u001b[0;32m      4\u001b[0m \u001b[1;32mfrom\u001b[0m \u001b[0mpathlib\u001b[0m \u001b[1;32mimport\u001b[0m \u001b[0mPath\u001b[0m\u001b[1;33m\u001b[0m\u001b[1;33m\u001b[0m\u001b[0m\n\u001b[0;32m      5\u001b[0m \u001b[1;33m\u001b[0m\u001b[0m\n\u001b[1;32m----> 6\u001b[1;33m \u001b[1;32mimport\u001b[0m \u001b[0mjinja2\u001b[0m\u001b[1;33m\u001b[0m\u001b[1;33m\u001b[0m\u001b[0m\n\u001b[0m\u001b[0;32m      7\u001b[0m \u001b[1;32mfrom\u001b[0m \u001b[0mjinja2\u001b[0m \u001b[1;32mimport\u001b[0m \u001b[0mEnvironment\u001b[0m\u001b[1;33m,\u001b[0m \u001b[0mPackageLoader\u001b[0m\u001b[1;33m\u001b[0m\u001b[1;33m\u001b[0m\u001b[0m\n\u001b[0;32m      8\u001b[0m \u001b[1;33m\u001b[0m\u001b[0m\n",
      "\u001b[1;32m~\\anaconda3\\lib\\site-packages\\jinja2\\__init__.py\u001b[0m in \u001b[0;36m<module>\u001b[1;34m\u001b[0m\n\u001b[0;32m     10\u001b[0m \u001b[1;32mfrom\u001b[0m \u001b[1;33m.\u001b[0m\u001b[0mbccache\u001b[0m \u001b[1;32mimport\u001b[0m \u001b[0mFileSystemBytecodeCache\u001b[0m\u001b[1;33m\u001b[0m\u001b[1;33m\u001b[0m\u001b[0m\n\u001b[0;32m     11\u001b[0m \u001b[1;32mfrom\u001b[0m \u001b[1;33m.\u001b[0m\u001b[0mbccache\u001b[0m \u001b[1;32mimport\u001b[0m \u001b[0mMemcachedBytecodeCache\u001b[0m\u001b[1;33m\u001b[0m\u001b[1;33m\u001b[0m\u001b[0m\n\u001b[1;32m---> 12\u001b[1;33m \u001b[1;32mfrom\u001b[0m \u001b[1;33m.\u001b[0m\u001b[0menvironment\u001b[0m \u001b[1;32mimport\u001b[0m \u001b[0mEnvironment\u001b[0m\u001b[1;33m\u001b[0m\u001b[1;33m\u001b[0m\u001b[0m\n\u001b[0m\u001b[0;32m     13\u001b[0m \u001b[1;32mfrom\u001b[0m \u001b[1;33m.\u001b[0m\u001b[0menvironment\u001b[0m \u001b[1;32mimport\u001b[0m \u001b[0mTemplate\u001b[0m\u001b[1;33m\u001b[0m\u001b[1;33m\u001b[0m\u001b[0m\n\u001b[0;32m     14\u001b[0m \u001b[1;32mfrom\u001b[0m \u001b[1;33m.\u001b[0m\u001b[0mexceptions\u001b[0m \u001b[1;32mimport\u001b[0m \u001b[0mTemplateAssertionError\u001b[0m\u001b[1;33m\u001b[0m\u001b[1;33m\u001b[0m\u001b[0m\n",
      "\u001b[1;32m~\\anaconda3\\lib\\site-packages\\jinja2\\environment.py\u001b[0m in \u001b[0;36m<module>\u001b[1;34m\u001b[0m\n\u001b[0;32m     23\u001b[0m \u001b[1;32mfrom\u001b[0m \u001b[1;33m.\u001b[0m\u001b[0mcompiler\u001b[0m \u001b[1;32mimport\u001b[0m \u001b[0mCodeGenerator\u001b[0m\u001b[1;33m\u001b[0m\u001b[1;33m\u001b[0m\u001b[0m\n\u001b[0;32m     24\u001b[0m \u001b[1;32mfrom\u001b[0m \u001b[1;33m.\u001b[0m\u001b[0mcompiler\u001b[0m \u001b[1;32mimport\u001b[0m \u001b[0mgenerate\u001b[0m\u001b[1;33m\u001b[0m\u001b[1;33m\u001b[0m\u001b[0m\n\u001b[1;32m---> 25\u001b[1;33m \u001b[1;32mfrom\u001b[0m \u001b[1;33m.\u001b[0m\u001b[0mdefaults\u001b[0m \u001b[1;32mimport\u001b[0m \u001b[0mBLOCK_END_STRING\u001b[0m\u001b[1;33m\u001b[0m\u001b[1;33m\u001b[0m\u001b[0m\n\u001b[0m\u001b[0;32m     26\u001b[0m \u001b[1;32mfrom\u001b[0m \u001b[1;33m.\u001b[0m\u001b[0mdefaults\u001b[0m \u001b[1;32mimport\u001b[0m \u001b[0mBLOCK_START_STRING\u001b[0m\u001b[1;33m\u001b[0m\u001b[1;33m\u001b[0m\u001b[0m\n\u001b[0;32m     27\u001b[0m \u001b[1;32mfrom\u001b[0m \u001b[1;33m.\u001b[0m\u001b[0mdefaults\u001b[0m \u001b[1;32mimport\u001b[0m \u001b[0mCOMMENT_END_STRING\u001b[0m\u001b[1;33m\u001b[0m\u001b[1;33m\u001b[0m\u001b[0m\n",
      "\u001b[1;32m~\\anaconda3\\lib\\site-packages\\jinja2\\defaults.py\u001b[0m in \u001b[0;36m<module>\u001b[1;34m\u001b[0m\n\u001b[0;32m      1\u001b[0m \u001b[1;31m# -*- coding: utf-8 -*-\u001b[0m\u001b[1;33m\u001b[0m\u001b[1;33m\u001b[0m\u001b[0m\n\u001b[0;32m      2\u001b[0m \u001b[1;32mfrom\u001b[0m \u001b[1;33m.\u001b[0m\u001b[0m_compat\u001b[0m \u001b[1;32mimport\u001b[0m \u001b[0mrange_type\u001b[0m\u001b[1;33m\u001b[0m\u001b[1;33m\u001b[0m\u001b[0m\n\u001b[1;32m----> 3\u001b[1;33m \u001b[1;32mfrom\u001b[0m \u001b[1;33m.\u001b[0m\u001b[0mfilters\u001b[0m \u001b[1;32mimport\u001b[0m \u001b[0mFILTERS\u001b[0m \u001b[1;32mas\u001b[0m \u001b[0mDEFAULT_FILTERS\u001b[0m  \u001b[1;31m# noqa: F401\u001b[0m\u001b[1;33m\u001b[0m\u001b[1;33m\u001b[0m\u001b[0m\n\u001b[0m\u001b[0;32m      4\u001b[0m \u001b[1;32mfrom\u001b[0m \u001b[1;33m.\u001b[0m\u001b[0mtests\u001b[0m \u001b[1;32mimport\u001b[0m \u001b[0mTESTS\u001b[0m \u001b[1;32mas\u001b[0m \u001b[0mDEFAULT_TESTS\u001b[0m  \u001b[1;31m# noqa: F401\u001b[0m\u001b[1;33m\u001b[0m\u001b[1;33m\u001b[0m\u001b[0m\n\u001b[0;32m      5\u001b[0m \u001b[1;32mfrom\u001b[0m \u001b[1;33m.\u001b[0m\u001b[0mutils\u001b[0m \u001b[1;32mimport\u001b[0m \u001b[0mCycler\u001b[0m\u001b[1;33m\u001b[0m\u001b[1;33m\u001b[0m\u001b[0m\n",
      "\u001b[1;32m~\\anaconda3\\lib\\site-packages\\jinja2\\filters.py\u001b[0m in \u001b[0;36m<module>\u001b[1;34m\u001b[0m\n\u001b[0;32m     11\u001b[0m \u001b[1;32mfrom\u001b[0m \u001b[0mmarkupsafe\u001b[0m \u001b[1;32mimport\u001b[0m \u001b[0mescape\u001b[0m\u001b[1;33m\u001b[0m\u001b[1;33m\u001b[0m\u001b[0m\n\u001b[0;32m     12\u001b[0m \u001b[1;32mfrom\u001b[0m \u001b[0mmarkupsafe\u001b[0m \u001b[1;32mimport\u001b[0m \u001b[0mMarkup\u001b[0m\u001b[1;33m\u001b[0m\u001b[1;33m\u001b[0m\u001b[0m\n\u001b[1;32m---> 13\u001b[1;33m \u001b[1;32mfrom\u001b[0m \u001b[0mmarkupsafe\u001b[0m \u001b[1;32mimport\u001b[0m \u001b[0msoft_unicode\u001b[0m\u001b[1;33m\u001b[0m\u001b[1;33m\u001b[0m\u001b[0m\n\u001b[0m\u001b[0;32m     14\u001b[0m \u001b[1;33m\u001b[0m\u001b[0m\n\u001b[0;32m     15\u001b[0m \u001b[1;32mfrom\u001b[0m \u001b[1;33m.\u001b[0m\u001b[0m_compat\u001b[0m \u001b[1;32mimport\u001b[0m \u001b[0mabc\u001b[0m\u001b[1;33m\u001b[0m\u001b[1;33m\u001b[0m\u001b[0m\n",
      "\u001b[1;31mImportError\u001b[0m: cannot import name 'soft_unicode' from 'markupsafe' (C:\\Users\\Ravi0dubey\\anaconda3\\lib\\site-packages\\markupsafe\\__init__.py)"
     ]
    }
   ],
   "source": [
    "import pandas as pd\n",
    "from pandas_profiling import ProfileReport\n",
    "import matplotlib.pyplot as plt\n",
    "import seaborn as sns"
   ]
  },
  {
   "cell_type": "code",
   "execution_count": null,
   "id": "ba703d01",
   "metadata": {},
   "outputs": [],
   "source": [
    "df= pd.read_csv(\"D:\\Study\\Data Science\\Dataset\\data1\\Travel.csv\")\n",
    "df"
   ]
  },
  {
   "cell_type": "code",
   "execution_count": null,
   "id": "73c596d8",
   "metadata": {},
   "outputs": [],
   "source": [
    "travel_profile= ProfileReport(df, title=\"Pandas Profiling Report\")\n",
    "travel_profile.to_file(\"Travel_profile.html\")"
   ]
  },
  {
   "cell_type": "code",
   "execution_count": null,
   "id": "c8f2b921",
   "metadata": {},
   "outputs": [],
   "source": [
    "travel_profile.to_widgets()"
   ]
  },
  {
   "cell_type": "code",
   "execution_count": null,
   "id": "18d9dfa0",
   "metadata": {},
   "outputs": [],
   "source": [
    "pip install sweetviz"
   ]
  },
  {
   "cell_type": "code",
   "execution_count": null,
   "id": "d4f0a242",
   "metadata": {},
   "outputs": [],
   "source": [
    "import sweetviz as sv\n",
    "\n",
    "sv_report = sv.analyze(df)\n",
    "sv_report.show_html() # Default arguments will generate to \"SWEETVIZ_REPORT.html\"\n"
   ]
  },
  {
   "cell_type": "code",
   "execution_count": null,
   "id": "b94bf2a4",
   "metadata": {},
   "outputs": [],
   "source": [
    "#Comparing report based on Gender\n",
    "\n",
    "df_Male = df[df['Gender']=='Male']\n",
    "df_Female = df[df['Gender']=='Female']\n",
    "\n",
    "compare_gender = sv.compare([df_Male,\"Male\"],[df_Female, \"Female\"])\n",
    "# compare.show_notebook()\n",
    "compare_gender.show_html()"
   ]
  },
  {
   "cell_type": "code",
   "execution_count": null,
   "id": "b1f24d2f",
   "metadata": {},
   "outputs": [],
   "source": [
    "df_google_play_store = pd.read_csv(\"D:\\Study\\Data Science\\Dataset\\data3\\googleplaystore.csv\")\n",
    "df_google_play_store"
   ]
  },
  {
   "cell_type": "code",
   "execution_count": null,
   "id": "9359f1b2",
   "metadata": {},
   "outputs": [],
   "source": [
    "google_playstore_report= ProfileReport(df_google_play_store,title=\"Google_playstore_report Profiling\")\n",
    "google_playstore_report.to_file(\"Google_playtore_profile_report.html\")"
   ]
  },
  {
   "cell_type": "code",
   "execution_count": null,
   "id": "453af199",
   "metadata": {},
   "outputs": [],
   "source": [
    "df_visa = pd.read_csv(\"D:\\Study\\Data Science\\Dataset\\data5\\Visadataset.csv\")\n",
    "df_visa"
   ]
  },
  {
   "cell_type": "code",
   "execution_count": null,
   "id": "732e7421",
   "metadata": {},
   "outputs": [],
   "source": [
    "#Comparing report based on Gender\n",
    "\n",
    "df_Asia = df_visa [df_visa ['continent']=='Asia']\n",
    "df_Europe = df_visa [df_visa ['continent']=='Europe']\n",
    "\n",
    "compare_continent = sv.compare([df_Asia,\"Asia Data\"],[df_Europe, \"Europe\"])\n",
    "# compare.show_notebook()\n",
    "compare_continent.show_html()"
   ]
  },
  {
   "cell_type": "code",
   "execution_count": null,
   "id": "952f437d",
   "metadata": {},
   "outputs": [],
   "source": [
    "pip install streamlit-pandas-profiling --user"
   ]
  },
  {
   "cell_type": "code",
   "execution_count": 4,
   "id": "faeea465",
   "metadata": {},
   "outputs": [
    {
     "name": "stdout",
     "output_type": "stream",
     "text": [
      "Requirement already satisfied: streamlit-pandas-profiling in c:\\users\\ravi0dubey\\appdata\\roaming\\python\\python39\\site-packages (0.1.3)\n",
      "Requirement already satisfied: pandas-profiling in c:\\users\\ravi0dubey\\anaconda3\\lib\\site-packages (from streamlit-pandas-profiling) (3.2.0)\n",
      "Requirement already satisfied: streamlit>=0.63 in c:\\users\\ravi0dubey\\appdata\\roaming\\python\\python39\\site-packages (from streamlit-pandas-profiling) (1.12.0)\n",
      "Requirement already satisfied: python-dateutil in c:\\users\\ravi0dubey\\anaconda3\\lib\\site-packages (from streamlit>=0.63->streamlit-pandas-profiling) (2.8.2)\n",
      "Requirement already satisfied: tornado>=5.0 in c:\\users\\ravi0dubey\\anaconda3\\lib\\site-packages (from streamlit>=0.63->streamlit-pandas-profiling) (6.1)\n",
      "Requirement already satisfied: toml in c:\\users\\ravi0dubey\\anaconda3\\lib\\site-packages (from streamlit>=0.63->streamlit-pandas-profiling) (0.10.2)\n",
      "Requirement already satisfied: semver in c:\\users\\ravi0dubey\\appdata\\roaming\\python\\python39\\site-packages (from streamlit>=0.63->streamlit-pandas-profiling) (2.13.0)\n",
      "Requirement already satisfied: cachetools>=4.0 in c:\\users\\ravi0dubey\\anaconda3\\lib\\site-packages (from streamlit>=0.63->streamlit-pandas-profiling) (5.2.0)\n",
      "Requirement already satisfied: requests>=2.4 in c:\\users\\ravi0dubey\\anaconda3\\lib\\site-packages (from streamlit>=0.63->streamlit-pandas-profiling) (2.26.0)\n",
      "Requirement already satisfied: pyarrow>=4.0 in c:\\users\\ravi0dubey\\appdata\\roaming\\python\\python39\\site-packages (from streamlit>=0.63->streamlit-pandas-profiling) (9.0.0)\n",
      "Requirement already satisfied: pandas>=0.21.0 in c:\\users\\ravi0dubey\\anaconda3\\lib\\site-packages (from streamlit>=0.63->streamlit-pandas-profiling) (1.1.5)\n",
      "Requirement already satisfied: altair>=3.2.0 in c:\\users\\ravi0dubey\\appdata\\roaming\\python\\python39\\site-packages (from streamlit>=0.63->streamlit-pandas-profiling) (4.2.0)\n",
      "Requirement already satisfied: pympler>=0.9 in c:\\users\\ravi0dubey\\appdata\\roaming\\python\\python39\\site-packages (from streamlit>=0.63->streamlit-pandas-profiling) (1.0.1)\n",
      "Requirement already satisfied: click>=7.0 in c:\\users\\ravi0dubey\\anaconda3\\lib\\site-packages (from streamlit>=0.63->streamlit-pandas-profiling) (7.1.2)\n",
      "Requirement already satisfied: gitpython!=3.1.19 in c:\\users\\ravi0dubey\\anaconda3\\lib\\site-packages (from streamlit>=0.63->streamlit-pandas-profiling) (3.1.27)\n",
      "Requirement already satisfied: watchdog in c:\\users\\ravi0dubey\\anaconda3\\lib\\site-packages (from streamlit>=0.63->streamlit-pandas-profiling) (2.1.3)\n",
      "Requirement already satisfied: rich>=10.11.0 in c:\\users\\ravi0dubey\\appdata\\roaming\\python\\python39\\site-packages (from streamlit>=0.63->streamlit-pandas-profiling) (12.5.1)\n",
      "Requirement already satisfied: protobuf<4,>=3.12 in c:\\users\\ravi0dubey\\anaconda3\\lib\\site-packages (from streamlit>=0.63->streamlit-pandas-profiling) (3.20.1)\n",
      "Requirement already satisfied: blinker>=1.0.0 in c:\\users\\ravi0dubey\\appdata\\roaming\\python\\python39\\site-packages (from streamlit>=0.63->streamlit-pandas-profiling) (1.5)\n",
      "Requirement already satisfied: typing-extensions>=3.10.0.0 in c:\\users\\ravi0dubey\\anaconda3\\lib\\site-packages (from streamlit>=0.63->streamlit-pandas-profiling) (3.10.0.2)\n",
      "Requirement already satisfied: pillow>=6.2.0 in c:\\users\\ravi0dubey\\anaconda3\\lib\\site-packages (from streamlit>=0.63->streamlit-pandas-profiling) (8.4.0)\n",
      "Requirement already satisfied: tzlocal>=1.1 in c:\\users\\ravi0dubey\\appdata\\roaming\\python\\python39\\site-packages (from streamlit>=0.63->streamlit-pandas-profiling) (4.2)\n",
      "Requirement already satisfied: importlib-metadata>=1.4 in c:\\users\\ravi0dubey\\anaconda3\\lib\\site-packages (from streamlit>=0.63->streamlit-pandas-profiling) (4.8.1)\n",
      "Requirement already satisfied: numpy in c:\\users\\ravi0dubey\\anaconda3\\lib\\site-packages (from streamlit>=0.63->streamlit-pandas-profiling) (1.20.3)\n",
      "Requirement already satisfied: pydeck>=0.1.dev5 in c:\\users\\ravi0dubey\\appdata\\roaming\\python\\python39\\site-packages (from streamlit>=0.63->streamlit-pandas-profiling) (0.8.0b3)\n",
      "Requirement already satisfied: validators>=0.2 in c:\\users\\ravi0dubey\\appdata\\roaming\\python\\python39\\site-packages (from streamlit>=0.63->streamlit-pandas-profiling) (0.20.0)\n",
      "Requirement already satisfied: packaging>=14.1 in c:\\users\\ravi0dubey\\anaconda3\\lib\\site-packages (from streamlit>=0.63->streamlit-pandas-profiling) (21.0)\n",
      "Requirement already satisfied: entrypoints in c:\\users\\ravi0dubey\\anaconda3\\lib\\site-packages (from altair>=3.2.0->streamlit>=0.63->streamlit-pandas-profiling) (0.3)\n",
      "Requirement already satisfied: toolz in c:\\users\\ravi0dubey\\anaconda3\\lib\\site-packages (from altair>=3.2.0->streamlit>=0.63->streamlit-pandas-profiling) (0.11.1)\n",
      "Requirement already satisfied: jsonschema>=3.0 in c:\\users\\ravi0dubey\\anaconda3\\lib\\site-packages (from altair>=3.2.0->streamlit>=0.63->streamlit-pandas-profiling) (3.2.0)\n",
      "Requirement already satisfied: jinja2 in c:\\users\\ravi0dubey\\anaconda3\\lib\\site-packages (from altair>=3.2.0->streamlit>=0.63->streamlit-pandas-profiling) (2.11.2)\n",
      "Requirement already satisfied: gitdb<5,>=4.0.1 in c:\\users\\ravi0dubey\\anaconda3\\lib\\site-packages (from gitpython!=3.1.19->streamlit>=0.63->streamlit-pandas-profiling) (4.0.9)\n",
      "Requirement already satisfied: smmap<6,>=3.0.1 in c:\\users\\ravi0dubey\\anaconda3\\lib\\site-packages (from gitdb<5,>=4.0.1->gitpython!=3.1.19->streamlit>=0.63->streamlit-pandas-profiling) (5.0.0)\n",
      "Requirement already satisfied: zipp>=0.5 in c:\\users\\ravi0dubey\\anaconda3\\lib\\site-packages (from importlib-metadata>=1.4->streamlit>=0.63->streamlit-pandas-profiling) (3.6.0)\n",
      "Requirement already satisfied: pyrsistent>=0.14.0 in c:\\users\\ravi0dubey\\anaconda3\\lib\\site-packages (from jsonschema>=3.0->altair>=3.2.0->streamlit>=0.63->streamlit-pandas-profiling) (0.18.0)\n",
      "Requirement already satisfied: setuptools in c:\\users\\ravi0dubey\\anaconda3\\lib\\site-packages (from jsonschema>=3.0->altair>=3.2.0->streamlit>=0.63->streamlit-pandas-profiling) (58.0.4)\n",
      "Requirement already satisfied: attrs>=17.4.0 in c:\\users\\ravi0dubey\\anaconda3\\lib\\site-packages (from jsonschema>=3.0->altair>=3.2.0->streamlit>=0.63->streamlit-pandas-profiling) (21.2.0)\n",
      "Requirement already satisfied: six>=1.11.0 in c:\\users\\ravi0dubey\\anaconda3\\lib\\site-packages (from jsonschema>=3.0->altair>=3.2.0->streamlit>=0.63->streamlit-pandas-profiling) (1.16.0)\n",
      "Requirement already satisfied: pyparsing>=2.0.2 in c:\\users\\ravi0dubey\\anaconda3\\lib\\site-packages (from packaging>=14.1->streamlit>=0.63->streamlit-pandas-profiling) (3.0.4)\n",
      "Requirement already satisfied: pytz>=2017.2 in c:\\users\\ravi0dubey\\anaconda3\\lib\\site-packages (from pandas>=0.21.0->streamlit>=0.63->streamlit-pandas-profiling) (2021.3)\n",
      "Requirement already satisfied: MarkupSafe>=0.23 in c:\\users\\ravi0dubey\\anaconda3\\lib\\site-packages (from jinja2->altair>=3.2.0->streamlit>=0.63->streamlit-pandas-profiling) (2.1.1)\n",
      "Requirement already satisfied: idna<4,>=2.5 in c:\\users\\ravi0dubey\\anaconda3\\lib\\site-packages (from requests>=2.4->streamlit>=0.63->streamlit-pandas-profiling) (2.10)\n",
      "Requirement already satisfied: urllib3<1.27,>=1.21.1 in c:\\users\\ravi0dubey\\anaconda3\\lib\\site-packages (from requests>=2.4->streamlit>=0.63->streamlit-pandas-profiling) (1.26.7)\n",
      "Requirement already satisfied: certifi>=2017.4.17 in c:\\users\\ravi0dubey\\anaconda3\\lib\\site-packages (from requests>=2.4->streamlit>=0.63->streamlit-pandas-profiling) (2022.6.15)\n",
      "Requirement already satisfied: charset-normalizer~=2.0.0 in c:\\users\\ravi0dubey\\anaconda3\\lib\\site-packages (from requests>=2.4->streamlit>=0.63->streamlit-pandas-profiling) (2.0.4)\n",
      "Requirement already satisfied: pygments<3.0.0,>=2.6.0 in c:\\users\\ravi0dubey\\anaconda3\\lib\\site-packages (from rich>=10.11.0->streamlit>=0.63->streamlit-pandas-profiling) (2.10.0)\n",
      "Requirement already satisfied: commonmark<0.10.0,>=0.9.0 in c:\\users\\ravi0dubey\\appdata\\roaming\\python\\python39\\site-packages (from rich>=10.11.0->streamlit>=0.63->streamlit-pandas-profiling) (0.9.1)\n",
      "Requirement already satisfied: pytz-deprecation-shim in c:\\users\\ravi0dubey\\appdata\\roaming\\python\\python39\\site-packages (from tzlocal>=1.1->streamlit>=0.63->streamlit-pandas-profiling) (0.1.0.post0)\n",
      "Requirement already satisfied: tzdata in c:\\users\\ravi0dubey\\anaconda3\\lib\\site-packages (from tzlocal>=1.1->streamlit>=0.63->streamlit-pandas-profiling) (2022.1)\n",
      "Requirement already satisfied: decorator>=3.4.0 in c:\\users\\ravi0dubey\\anaconda3\\lib\\site-packages (from validators>=0.2->streamlit>=0.63->streamlit-pandas-profiling) (5.1.0)\n",
      "Requirement already satisfied: matplotlib>=3.2.0 in c:\\users\\ravi0dubey\\anaconda3\\lib\\site-packages (from pandas-profiling->streamlit-pandas-profiling) (3.4.3)\n",
      "Requirement already satisfied: pydantic>=1.8.1 in c:\\users\\ravi0dubey\\anaconda3\\lib\\site-packages (from pandas-profiling->streamlit-pandas-profiling) (1.9.1)\n",
      "Requirement already satisfied: phik>=0.11.1 in c:\\users\\ravi0dubey\\anaconda3\\lib\\site-packages (from pandas-profiling->streamlit-pandas-profiling) (0.12.2)\n",
      "Requirement already satisfied: multimethod>=1.4 in c:\\users\\ravi0dubey\\anaconda3\\lib\\site-packages (from pandas-profiling->streamlit-pandas-profiling) (1.8)\n",
      "Requirement already satisfied: PyYAML>=5.0.0 in c:\\users\\ravi0dubey\\anaconda3\\lib\\site-packages (from pandas-profiling->streamlit-pandas-profiling) (6.0)\n",
      "Requirement already satisfied: visions[type_image_path]==0.7.4 in c:\\users\\ravi0dubey\\anaconda3\\lib\\site-packages (from pandas-profiling->streamlit-pandas-profiling) (0.7.4)\n",
      "Requirement already satisfied: tangled-up-in-unicode==0.2.0 in c:\\users\\ravi0dubey\\anaconda3\\lib\\site-packages (from pandas-profiling->streamlit-pandas-profiling) (0.2.0)\n",
      "Requirement already satisfied: seaborn>=0.10.1 in c:\\users\\ravi0dubey\\anaconda3\\lib\\site-packages (from pandas-profiling->streamlit-pandas-profiling) (0.11.2)\n",
      "Requirement already satisfied: tqdm>=4.48.2 in c:\\users\\ravi0dubey\\anaconda3\\lib\\site-packages (from pandas-profiling->streamlit-pandas-profiling) (4.62.3)\n",
      "Requirement already satisfied: scipy>=1.4.1 in c:\\users\\ravi0dubey\\anaconda3\\lib\\site-packages (from pandas-profiling->streamlit-pandas-profiling) (1.7.1)\n",
      "Requirement already satisfied: htmlmin>=0.1.12 in c:\\users\\ravi0dubey\\anaconda3\\lib\\site-packages (from pandas-profiling->streamlit-pandas-profiling) (0.1.12)\n",
      "Requirement already satisfied: missingno>=0.4.2 in c:\\users\\ravi0dubey\\anaconda3\\lib\\site-packages (from pandas-profiling->streamlit-pandas-profiling) (0.5.1)\n",
      "Requirement already satisfied: joblib~=1.1.0 in c:\\users\\ravi0dubey\\anaconda3\\lib\\site-packages (from pandas-profiling->streamlit-pandas-profiling) (1.1.0)\n",
      "Requirement already satisfied: networkx>=2.4 in c:\\users\\ravi0dubey\\anaconda3\\lib\\site-packages (from visions[type_image_path]==0.7.4->pandas-profiling->streamlit-pandas-profiling) (2.6.3)\n",
      "Requirement already satisfied: imagehash in c:\\users\\ravi0dubey\\anaconda3\\lib\\site-packages (from visions[type_image_path]==0.7.4->pandas-profiling->streamlit-pandas-profiling) (4.2.1)\n",
      "Requirement already satisfied: cycler>=0.10 in c:\\users\\ravi0dubey\\anaconda3\\lib\\site-packages (from matplotlib>=3.2.0->pandas-profiling->streamlit-pandas-profiling) (0.10.0)\n",
      "Requirement already satisfied: kiwisolver>=1.0.1 in c:\\users\\ravi0dubey\\anaconda3\\lib\\site-packages (from matplotlib>=3.2.0->pandas-profiling->streamlit-pandas-profiling) (1.3.1)\n",
      "Requirement already satisfied: colorama in c:\\users\\ravi0dubey\\anaconda3\\lib\\site-packages (from tqdm>=4.48.2->pandas-profiling->streamlit-pandas-profiling) (0.4.4)\n",
      "Requirement already satisfied: PyWavelets in c:\\users\\ravi0dubey\\anaconda3\\lib\\site-packages (from imagehash->visions[type_image_path]==0.7.4->pandas-profiling->streamlit-pandas-profiling) (1.1.1)\n",
      "Note: you may need to restart the kernel to use updated packages.\n"
     ]
    }
   ],
   "source": [
    "pip install streamlit-pandas-profiling"
   ]
  },
  {
   "cell_type": "code",
   "execution_count": 5,
   "id": "8c4aa99b",
   "metadata": {},
   "outputs": [
    {
     "ename": "ImportError",
     "evalue": "Missing optional dependency 'Jinja2'. DataFrame.style requires jinja2. Use pip or conda to install Jinja2.",
     "output_type": "error",
     "traceback": [
      "\u001b[1;31m---------------------------------------------------------------------------\u001b[0m",
      "\u001b[1;31mImportError\u001b[0m                               Traceback (most recent call last)",
      "\u001b[1;32m~\\AppData\\Local\\Temp/ipykernel_53152/3913350386.py\u001b[0m in \u001b[0;36m<module>\u001b[1;34m\u001b[0m\n\u001b[1;32m----> 1\u001b[1;33m \u001b[1;32mimport\u001b[0m \u001b[0mstreamlit\u001b[0m \u001b[1;32mas\u001b[0m \u001b[0mst\u001b[0m\u001b[1;33m\u001b[0m\u001b[1;33m\u001b[0m\u001b[0m\n\u001b[0m\u001b[0;32m      2\u001b[0m \u001b[1;32mfrom\u001b[0m \u001b[0mstreamlit_pandas_profiling\u001b[0m \u001b[1;32mimport\u001b[0m \u001b[0mst_profile_report\u001b[0m\u001b[1;33m\u001b[0m\u001b[1;33m\u001b[0m\u001b[0m\n\u001b[0;32m      3\u001b[0m \u001b[0mdf_profile\u001b[0m\u001b[1;33m=\u001b[0m \u001b[0mProfileReport\u001b[0m\u001b[1;33m(\u001b[0m\u001b[0mdf_visa\u001b[0m\u001b[1;33m)\u001b[0m\u001b[1;33m\u001b[0m\u001b[1;33m\u001b[0m\u001b[0m\n\u001b[0;32m      4\u001b[0m \u001b[0mst\u001b[0m\u001b[1;33m.\u001b[0m\u001b[0mtitle\u001b[0m\u001b[1;33m(\u001b[0m\u001b[1;34m\"Visa Profiling in Streamlit\"\u001b[0m\u001b[1;33m)\u001b[0m\u001b[1;33m\u001b[0m\u001b[1;33m\u001b[0m\u001b[0m\n\u001b[0;32m      5\u001b[0m \u001b[0mst\u001b[0m\u001b[1;33m.\u001b[0m\u001b[0mwrite\u001b[0m\u001b[1;33m(\u001b[0m\u001b[0mdf_visa\u001b[0m\u001b[1;33m)\u001b[0m\u001b[1;33m\u001b[0m\u001b[1;33m\u001b[0m\u001b[0m\n",
      "\u001b[1;32m~\\AppData\\Roaming\\Python\\Python39\\site-packages\\streamlit\\__init__.py\u001b[0m in \u001b[0;36m<module>\u001b[1;34m\u001b[0m\n\u001b[0;32m     68\u001b[0m \u001b[1;32mfrom\u001b[0m \u001b[0mstreamlit\u001b[0m \u001b[1;32mimport\u001b[0m \u001b[0msource_util\u001b[0m \u001b[1;32mas\u001b[0m \u001b[0m_source_util\u001b[0m\u001b[1;33m\u001b[0m\u001b[1;33m\u001b[0m\u001b[0m\n\u001b[0;32m     69\u001b[0m \u001b[1;32mfrom\u001b[0m \u001b[0mstreamlit\u001b[0m \u001b[1;32mimport\u001b[0m \u001b[0mstring_util\u001b[0m \u001b[1;32mas\u001b[0m \u001b[0m_string_util\u001b[0m\u001b[1;33m\u001b[0m\u001b[1;33m\u001b[0m\u001b[0m\n\u001b[1;32m---> 70\u001b[1;33m \u001b[1;32mfrom\u001b[0m \u001b[0mstreamlit\u001b[0m\u001b[1;33m.\u001b[0m\u001b[0mdelta_generator\u001b[0m \u001b[1;32mimport\u001b[0m \u001b[0mDeltaGenerator\u001b[0m \u001b[1;32mas\u001b[0m \u001b[0m_DeltaGenerator\u001b[0m\u001b[1;33m\u001b[0m\u001b[1;33m\u001b[0m\u001b[0m\n\u001b[0m\u001b[0;32m     71\u001b[0m from streamlit.runtime.scriptrunner import (\n\u001b[0;32m     72\u001b[0m     \u001b[0madd_script_run_ctx\u001b[0m \u001b[1;32mas\u001b[0m \u001b[0m_add_script_run_ctx\u001b[0m\u001b[1;33m,\u001b[0m\u001b[1;33m\u001b[0m\u001b[1;33m\u001b[0m\u001b[0m\n",
      "\u001b[1;32m~\\AppData\\Roaming\\Python\\Python39\\site-packages\\streamlit\\delta_generator.py\u001b[0m in \u001b[0;36m<module>\u001b[1;34m\u001b[0m\n\u001b[0;32m     87\u001b[0m \u001b[1;31m# DataFrame elements come in two flavors: \"Legacy\" and \"Arrow\".\u001b[0m\u001b[1;33m\u001b[0m\u001b[1;33m\u001b[0m\u001b[0m\n\u001b[0;32m     88\u001b[0m \u001b[1;31m# We select between them with the DataFrameElementSelectorMixin.\u001b[0m\u001b[1;33m\u001b[0m\u001b[1;33m\u001b[0m\u001b[0m\n\u001b[1;32m---> 89\u001b[1;33m \u001b[1;32mfrom\u001b[0m \u001b[0mstreamlit\u001b[0m\u001b[1;33m.\u001b[0m\u001b[0melements\u001b[0m\u001b[1;33m.\u001b[0m\u001b[0marrow\u001b[0m \u001b[1;32mimport\u001b[0m \u001b[0mArrowMixin\u001b[0m\u001b[1;33m\u001b[0m\u001b[1;33m\u001b[0m\u001b[0m\n\u001b[0m\u001b[0;32m     90\u001b[0m \u001b[1;32mfrom\u001b[0m \u001b[0mstreamlit\u001b[0m\u001b[1;33m.\u001b[0m\u001b[0melements\u001b[0m\u001b[1;33m.\u001b[0m\u001b[0marrow_altair\u001b[0m \u001b[1;32mimport\u001b[0m \u001b[0mArrowAltairMixin\u001b[0m\u001b[1;33m\u001b[0m\u001b[1;33m\u001b[0m\u001b[0m\n\u001b[0;32m     91\u001b[0m \u001b[1;32mfrom\u001b[0m \u001b[0mstreamlit\u001b[0m\u001b[1;33m.\u001b[0m\u001b[0melements\u001b[0m\u001b[1;33m.\u001b[0m\u001b[0marrow_vega_lite\u001b[0m \u001b[1;32mimport\u001b[0m \u001b[0mArrowVegaLiteMixin\u001b[0m\u001b[1;33m\u001b[0m\u001b[1;33m\u001b[0m\u001b[0m\n",
      "\u001b[1;32m~\\AppData\\Roaming\\Python\\Python39\\site-packages\\streamlit\\elements\\arrow.py\u001b[0m in \u001b[0;36m<module>\u001b[1;34m\u001b[0m\n\u001b[0;32m     19\u001b[0m \u001b[1;32mfrom\u001b[0m \u001b[0mnumpy\u001b[0m \u001b[1;32mimport\u001b[0m \u001b[0mndarray\u001b[0m\u001b[1;33m\u001b[0m\u001b[1;33m\u001b[0m\u001b[0m\n\u001b[0;32m     20\u001b[0m \u001b[1;32mfrom\u001b[0m \u001b[0mpandas\u001b[0m \u001b[1;32mimport\u001b[0m \u001b[0mDataFrame\u001b[0m\u001b[1;33m\u001b[0m\u001b[1;33m\u001b[0m\u001b[0m\n\u001b[1;32m---> 21\u001b[1;33m \u001b[1;32mfrom\u001b[0m \u001b[0mpandas\u001b[0m\u001b[1;33m.\u001b[0m\u001b[0mio\u001b[0m\u001b[1;33m.\u001b[0m\u001b[0mformats\u001b[0m\u001b[1;33m.\u001b[0m\u001b[0mstyle\u001b[0m \u001b[1;32mimport\u001b[0m \u001b[0mStyler\u001b[0m\u001b[1;33m\u001b[0m\u001b[1;33m\u001b[0m\u001b[0m\n\u001b[0m\u001b[0;32m     22\u001b[0m \u001b[1;32mimport\u001b[0m \u001b[0mpyarrow\u001b[0m \u001b[1;32mas\u001b[0m \u001b[0mpa\u001b[0m\u001b[1;33m\u001b[0m\u001b[1;33m\u001b[0m\u001b[0m\n\u001b[0;32m     23\u001b[0m \u001b[1;33m\u001b[0m\u001b[0m\n",
      "\u001b[1;32m~\\anaconda3\\lib\\site-packages\\pandas\\io\\formats\\style.py\u001b[0m in \u001b[0;36m<module>\u001b[1;34m\u001b[0m\n\u001b[0;32m     39\u001b[0m \u001b[1;32mfrom\u001b[0m \u001b[0mpandas\u001b[0m\u001b[1;33m.\u001b[0m\u001b[0mcore\u001b[0m\u001b[1;33m.\u001b[0m\u001b[0mindexing\u001b[0m \u001b[1;32mimport\u001b[0m \u001b[0m_maybe_numeric_slice\u001b[0m\u001b[1;33m,\u001b[0m \u001b[0m_non_reducing_slice\u001b[0m\u001b[1;33m\u001b[0m\u001b[1;33m\u001b[0m\u001b[0m\n\u001b[0;32m     40\u001b[0m \u001b[1;33m\u001b[0m\u001b[0m\n\u001b[1;32m---> 41\u001b[1;33m \u001b[0mjinja2\u001b[0m \u001b[1;33m=\u001b[0m \u001b[0mimport_optional_dependency\u001b[0m\u001b[1;33m(\u001b[0m\u001b[1;34m\"jinja2\"\u001b[0m\u001b[1;33m,\u001b[0m \u001b[0mextra\u001b[0m\u001b[1;33m=\u001b[0m\u001b[1;34m\"DataFrame.style requires jinja2.\"\u001b[0m\u001b[1;33m)\u001b[0m\u001b[1;33m\u001b[0m\u001b[1;33m\u001b[0m\u001b[0m\n\u001b[0m\u001b[0;32m     42\u001b[0m \u001b[1;33m\u001b[0m\u001b[0m\n\u001b[0;32m     43\u001b[0m \u001b[1;33m\u001b[0m\u001b[0m\n",
      "\u001b[1;32m~\\anaconda3\\lib\\site-packages\\pandas\\compat\\_optional.py\u001b[0m in \u001b[0;36mimport_optional_dependency\u001b[1;34m(name, extra, raise_on_missing, on_version)\u001b[0m\n\u001b[0;32m    108\u001b[0m     \u001b[1;32mexcept\u001b[0m \u001b[0mImportError\u001b[0m\u001b[1;33m:\u001b[0m\u001b[1;33m\u001b[0m\u001b[1;33m\u001b[0m\u001b[0m\n\u001b[0;32m    109\u001b[0m         \u001b[1;32mif\u001b[0m \u001b[0mraise_on_missing\u001b[0m\u001b[1;33m:\u001b[0m\u001b[1;33m\u001b[0m\u001b[1;33m\u001b[0m\u001b[0m\n\u001b[1;32m--> 110\u001b[1;33m             \u001b[1;32mraise\u001b[0m \u001b[0mImportError\u001b[0m\u001b[1;33m(\u001b[0m\u001b[0mmsg\u001b[0m\u001b[1;33m)\u001b[0m \u001b[1;32mfrom\u001b[0m \u001b[1;32mNone\u001b[0m\u001b[1;33m\u001b[0m\u001b[1;33m\u001b[0m\u001b[0m\n\u001b[0m\u001b[0;32m    111\u001b[0m         \u001b[1;32melse\u001b[0m\u001b[1;33m:\u001b[0m\u001b[1;33m\u001b[0m\u001b[1;33m\u001b[0m\u001b[0m\n\u001b[0;32m    112\u001b[0m             \u001b[1;32mreturn\u001b[0m \u001b[1;32mNone\u001b[0m\u001b[1;33m\u001b[0m\u001b[1;33m\u001b[0m\u001b[0m\n",
      "\u001b[1;31mImportError\u001b[0m: Missing optional dependency 'Jinja2'. DataFrame.style requires jinja2. Use pip or conda to install Jinja2."
     ]
    }
   ],
   "source": [
    "import streamlit as st\n",
    "from streamlit_pandas_profiling import st_profile_report\n",
    "df_profile= ProfileReport(df_visa)\n",
    "st.title(\"Visa Profiling in Streamlit\")\n",
    "st.write(df_visa)\n",
    "st_profile_report(df_profile)"
   ]
  },
  {
   "cell_type": "code",
   "execution_count": 3,
   "id": "e060ff05",
   "metadata": {},
   "outputs": [
    {
     "name": "stdout",
     "output_type": "stream",
     "text": [
      "Requirement already satisfied: Jinja2 in c:\\users\\ravi0dubey\\anaconda3\\lib\\site-packages (2.11.2)\n",
      "Requirement already satisfied: MarkupSafe>=0.23 in c:\\users\\ravi0dubey\\anaconda3\\lib\\site-packages (from Jinja2) (2.1.1)\n",
      "Note: you may need to restart the kernel to use updated packages.\n"
     ]
    }
   ],
   "source": [
    "pip install Jinja2"
   ]
  }
 ],
 "metadata": {
  "kernelspec": {
   "display_name": "Python 3 (ipykernel)",
   "language": "python",
   "name": "python3"
  },
  "language_info": {
   "codemirror_mode": {
    "name": "ipython",
    "version": 3
   },
   "file_extension": ".py",
   "mimetype": "text/x-python",
   "name": "python",
   "nbconvert_exporter": "python",
   "pygments_lexer": "ipython3",
   "version": "3.9.7"
  }
 },
 "nbformat": 4,
 "nbformat_minor": 5
}
